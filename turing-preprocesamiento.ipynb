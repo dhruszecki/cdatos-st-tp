{
  "nbformat": 4,
  "nbformat_minor": 0,
  "metadata": {
    "colab": {
      "name": "st-tp-turing_convai.ipynb",
      "provenance": [],
      "collapsed_sections": [],
      "include_colab_link": true
    },
    "kernelspec": {
      "name": "python3",
      "display_name": "Python 3"
    },
    "language_info": {
      "name": "python"
    }
  },
  "cells": [
    {
      "cell_type": "markdown",
      "metadata": {
        "id": "view-in-github",
        "colab_type": "text"
      },
      "source": [
        "<a href=\"https://colab.research.google.com/github/dhruszecki/cdatos-st-tp/blob/main/turing-preprocesamiento.ipynb\" target=\"_parent\"><img src=\"https://colab.research.google.com/assets/colab-badge.svg\" alt=\"Open In Colab\"/></a>"
      ]
    },
    {
      "cell_type": "code",
      "metadata": {
        "id": "0FUwN44r_d0t"
      },
      "source": [
        "import numpy as np\n",
        "import pandas as pd\n",
        "\n",
        "import os\n",
        "import os.path\n",
        "from os import path\n",
        "\n",
        "import matplotlib.pyplot as plt\n",
        "\n",
        "from enum import Enum\n",
        "from time import time\n",
        "\n",
        "\n"
      ],
      "execution_count": null,
      "outputs": []
    },
    {
      "cell_type": "markdown",
      "metadata": {
        "id": "nRrKlbtRAcU3"
      },
      "source": [
        "# Utils"
      ]
    },
    {
      "cell_type": "code",
      "metadata": {
        "id": "YE9vqJQX9186"
      },
      "source": [
        "#importamos el json en crudo desde el site de convai\n",
        "raw_dataset = pd.read_json(\"http://convai.io/data/summer_wild_evaluation_dialogs.json\", convert_dates=True, lines=True)\n"
      ],
      "execution_count": null,
      "outputs": []
    },
    {
      "cell_type": "code",
      "metadata": {
        "colab": {
          "base_uri": "https://localhost:8080/",
          "height": 250
        },
        "id": "6jrRP-1lAzfT",
        "outputId": "a3b4d35a-1acf-4814-f19c-9c51e5d176e1"
      },
      "source": [
        "#imprimimos la columna 0 para ver el formato (hay 3495 columnas, donde cada una es una conversacion)\n",
        "column0=pd.json_normalize(raw_dataset[0])\n",
        "column0"
      ],
      "execution_count": null,
      "outputs": [
        {
          "output_type": "execute_result",
          "data": {
            "text/html": [
              "<div>\n",
              "<style scoped>\n",
              "    .dataframe tbody tr th:only-of-type {\n",
              "        vertical-align: middle;\n",
              "    }\n",
              "\n",
              "    .dataframe tbody tr th {\n",
              "        vertical-align: top;\n",
              "    }\n",
              "\n",
              "    .dataframe thead th {\n",
              "        text-align: right;\n",
              "    }\n",
              "</style>\n",
              "<table border=\"1\" class=\"dataframe\">\n",
              "  <thead>\n",
              "    <tr style=\"text-align: right;\">\n",
              "      <th></th>\n",
              "      <th>dialog_id</th>\n",
              "      <th>dialog</th>\n",
              "      <th>bot_profile</th>\n",
              "      <th>user_profile</th>\n",
              "      <th>eval_score</th>\n",
              "      <th>profile_match</th>\n",
              "    </tr>\n",
              "  </thead>\n",
              "  <tbody>\n",
              "    <tr>\n",
              "      <th>0</th>\n",
              "      <td>0xab38710</td>\n",
              "      <td>[{'id': 0, 'sender': 'participant2', 'text': 'I love iphone! i just bought new iphone!', 'sender_class': 'Bot'}, {'id': 1, 'sender': 'participant1', 'text': 'Thats good for you, i'm not very into new tech', 'sender_class': 'Human'}, {'id': 2, 'sender': 'participant2', 'text': 'I am a college student and i am a college student', 'sender_class': 'Bot'}, {'id': 3, 'sender': 'participant1', 'text': 'I am go to gym and live on donations', 'sender_class': 'Human'}, {'id': 4, 'sender': 'participant2', 'text': 'I am a vegan and i am in the midwest', 'sender_class': 'Bot'}, {'id': 5, 'sender': 'participant1', 'text': 'So vegan... i have dogs maybe i should told then that they may eat cheap salads insted of meat', 'sender_class': 'Human'}, {'id': 6, 'sender': 'participant2', 'text': 'I would not mind having them in the office that would be hard for me', 'sender_class': 'Bot'}, {'id': 7, 'sender': 'participant1', 'text': 'Dogs or vegan in office?', 'sender_class': 'Human'}, {'id': 8, 'sender': 'participant2', 'text': 'I am a vegetarian so i am vegan', 'sender_class': 'Bot'}, {'id': 9, 'sender': 'participant1', 'text': 'Strange answer', 'sender_class': 'Human'}, {'id': 10, 'sender': 'participant2', 'text': 'I guess i just do not know what to ps4 experience with.', 'sender_class': 'Bot'}]</td>\n",
              "      <td>[i have amazing children and grandchildren., i can sew my own clothes., i had cancer but its gone now., i am retired and living the great life., i do not have a smartphone.]</td>\n",
              "      <td>[two dogs live with me., i like doing the treadmill and rowing machine., eating is something i do when i'm bored., i have short hair., i go to the gym regularly.]</td>\n",
              "      <td>1</td>\n",
              "      <td>0</td>\n",
              "    </tr>\n",
              "  </tbody>\n",
              "</table>\n",
              "</div>"
            ],
            "text/plain": [
              "   dialog_id  ... profile_match\n",
              "0  0xab38710  ...             0\n",
              "\n",
              "[1 rows x 6 columns]"
            ]
          },
          "metadata": {},
          "execution_count": 22
        }
      ]
    },
    {
      "cell_type": "code",
      "metadata": {
        "id": "gvcnMum55h-f"
      },
      "source": [
        "#transponemos\n",
        "raw_dataset_transposed = raw_dataset.T"
      ],
      "execution_count": null,
      "outputs": []
    },
    {
      "cell_type": "code",
      "metadata": {
        "colab": {
          "base_uri": "https://localhost:8080/",
          "height": 425
        },
        "id": "-c-LXheD6GkJ",
        "outputId": "bab7c3f9-36b6-4237-fa3a-e2ac5368b2be"
      },
      "source": [
        "#imprimimos para ver como quedo transpuesto\n",
        "raw_dataset_transposed.head(5)"
      ],
      "execution_count": null,
      "outputs": [
        {
          "output_type": "execute_result",
          "data": {
            "text/html": [
              "<div>\n",
              "<style scoped>\n",
              "    .dataframe tbody tr th:only-of-type {\n",
              "        vertical-align: middle;\n",
              "    }\n",
              "\n",
              "    .dataframe tbody tr th {\n",
              "        vertical-align: top;\n",
              "    }\n",
              "\n",
              "    .dataframe thead th {\n",
              "        text-align: right;\n",
              "    }\n",
              "</style>\n",
              "<table border=\"1\" class=\"dataframe\">\n",
              "  <thead>\n",
              "    <tr style=\"text-align: right;\">\n",
              "      <th></th>\n",
              "      <th>0</th>\n",
              "    </tr>\n",
              "  </thead>\n",
              "  <tbody>\n",
              "    <tr>\n",
              "      <th>0</th>\n",
              "      <td>{'dialog_id': '0xab38710', 'dialog': [{'id': 0, 'sender': 'participant2', 'text': 'I love iphone! i just bought new iphone!', 'sender_class': 'Bot'}, {'id': 1, 'sender': 'participant1', 'text': 'Thats good for you, i'm not very into new tech', 'sender_class': 'Human'}, {'id': 2, 'sender': 'participant2', 'text': 'I am a college student and i am a college student', 'sender_class': 'Bot'}, {'id': 3, 'sender': 'participant1', 'text': 'I am go to gym and live on donations', 'sender_class': 'Human'}, {'id': 4, 'sender': 'participant2', 'text': 'I am a vegan and i am in the midwest', 'sender_class': 'Bot'}, {'id': 5, 'sender': 'participant1', 'text': 'So vegan... i have dogs maybe i should told then that they may eat cheap salads insted of meat', 'sender_class': 'Human'}, {'id': 6, 'sender': 'participant2', 'text': 'I would not mind having them in the office that would be hard for me', 'sender_class': 'Bot'}, {'id': 7, 'sender': 'participant1', 'text': 'Dogs or vegan in office?', 'sender_class': 'Human'}, {'id': 8, 'sender': 'participant2', 'text': 'I am a vegetarian so i am vegan', 'sender_class': 'Bot'}, {'id': 9, 'sender': 'participant1', 'text': 'Strange answer', 'sender_class': 'Human'}, {'id': 10, 'sender': 'participant2', 'text': 'I guess i just do not know what to ps4 experience with.', 'sender_class': 'Bot'}], 'bot_profile': ['i have amazing children and grandchildren.', 'i can sew my own clothes.', 'i had cancer but its gone now.', 'i am retired and living the great life.', 'i do not have a smartphone.'], 'user_profile': ['two dogs live with me.', 'i like doing the treadmill and rowing machine.', 'eating is something i do when i'm bored.', 'i have short hair.', 'i go to the gym regularly.'], 'eval_score': 1, 'profile_match': 0}</td>\n",
              "    </tr>\n",
              "    <tr>\n",
              "      <th>1</th>\n",
              "      <td>{'dialog_id': '0x223f6d5e', 'dialog': [{'id': 0, 'sender': 'participant1', 'text': 'Hello', 'sender_class': 'Human'}, {'id': 1, 'sender': 'participant1', 'text': '/test', 'sender_class': 'Human'}], 'bot_profile': ['my father was a door to door salesman.', 'i've three dogs.', 'i am in an open polyamorous relationship.', 'i also have a dog walking business.'], 'user_profile': ['if i'm not cooking in the kitchen then i'm definitely on the water.', 'spiderman is my favorite.', 'hey my name is larry and i am a chef.', 'l also love comic books.', 'i love cooking but i also enjoy fishing.'], 'eval_score': 1, 'profile_match': 1}</td>\n",
              "    </tr>\n",
              "    <tr>\n",
              "      <th>2</th>\n",
              "      <td>{'dialog_id': '0x6789b32a', 'dialog': [{'id': 0, 'sender': 'participant1', 'text': 'Hey', 'sender_class': 'Human'}, {'id': 1, 'sender': 'participant1', 'text': 'What do you do?', 'sender_class': 'Human'}], 'bot_profile': ['i am a gold medalist olympian.', 'i love italian food and garlic bread.', 'my favorite color is yellow.', 'gymnastics is my favorite sport.', 'i workout four hours a day.'], 'user_profile': ['i've a german shepherd dog.', 'i live is a rural farming community.', 'my husband is adopted.', 'i like to watch nhl hockey.'], 'eval_score': 1, 'profile_match': 1}</td>\n",
              "    </tr>\n",
              "    <tr>\n",
              "      <th>3</th>\n",
              "      <td>{'dialog_id': '0x7304a92a', 'dialog': [{'id': 0, 'sender': 'participant2', 'text': 'I love painting, i love to paint', 'sender_class': 'Bot'}], 'bot_profile': ['i fantasize about taking over the world.', 'i'm a 56 year old woman.', 'i have two grown children who never visit.', 'i used to be a painter but now i am a housekeeper.'], 'user_profile': ['i like watching war documentaries.', 'i volunteer at a soup kitchen.', 'cheeseburgers are my favorite food.', 'i was poor growing up.', 'i'm a retired gym teacher.'], 'eval_score': 1, 'profile_match': 1}</td>\n",
              "    </tr>\n",
              "    <tr>\n",
              "      <th>4</th>\n",
              "      <td>{'dialog_id': '0x7470f02a', 'dialog': [{'id': 0, 'sender': 'participant1', 'text': 'Hello', 'sender_class': 'Human'}], 'bot_profile': ['i am 40 years old.', 'i work as a car salesman.', 'my wife spends all my money.', 'i hate my job.', 'i'm planning on getting a divorce.'], 'user_profile': ['i work for our local supermarket.', 'my favorite band is the who.', 'i have never been out of ohio.', 'my favorite food is pizza with black olives.'], 'eval_score': 1, 'profile_match': 1}</td>\n",
              "    </tr>\n",
              "  </tbody>\n",
              "</table>\n",
              "</div>"
            ],
            "text/plain": [
              "                                                                                                                                                                                                                                                                                                                                                                                                                                                                                                                                                                                                                                                                                                                                                                                                                                                                                                                                                                                                                                                                                                                                                                                                                                                                                                                                                                                                                                                                                                                                                                                                                                                                                                                                                                                                                                   0\n",
              "0  {'dialog_id': '0xab38710', 'dialog': [{'id': 0, 'sender': 'participant2', 'text': 'I love iphone! i just bought new iphone!', 'sender_class': 'Bot'}, {'id': 1, 'sender': 'participant1', 'text': 'Thats good for you, i'm not very into new tech', 'sender_class': 'Human'}, {'id': 2, 'sender': 'participant2', 'text': 'I am a college student and i am a college student', 'sender_class': 'Bot'}, {'id': 3, 'sender': 'participant1', 'text': 'I am go to gym and live on donations', 'sender_class': 'Human'}, {'id': 4, 'sender': 'participant2', 'text': 'I am a vegan and i am in the midwest', 'sender_class': 'Bot'}, {'id': 5, 'sender': 'participant1', 'text': 'So vegan... i have dogs maybe i should told then that they may eat cheap salads insted of meat', 'sender_class': 'Human'}, {'id': 6, 'sender': 'participant2', 'text': 'I would not mind having them in the office that would be hard for me', 'sender_class': 'Bot'}, {'id': 7, 'sender': 'participant1', 'text': 'Dogs or vegan in office?', 'sender_class': 'Human'}, {'id': 8, 'sender': 'participant2', 'text': 'I am a vegetarian so i am vegan', 'sender_class': 'Bot'}, {'id': 9, 'sender': 'participant1', 'text': 'Strange answer', 'sender_class': 'Human'}, {'id': 10, 'sender': 'participant2', 'text': 'I guess i just do not know what to ps4 experience with.', 'sender_class': 'Bot'}], 'bot_profile': ['i have amazing children and grandchildren.', 'i can sew my own clothes.', 'i had cancer but its gone now.', 'i am retired and living the great life.', 'i do not have a smartphone.'], 'user_profile': ['two dogs live with me.', 'i like doing the treadmill and rowing machine.', 'eating is something i do when i'm bored.', 'i have short hair.', 'i go to the gym regularly.'], 'eval_score': 1, 'profile_match': 0}\n",
              "1                                                                                                                                                                                                                                                                                                                                                                                                                                                                                                                                                                                                                                                                                                                                                                                                                                                                                                                                                                                                                                                                                                                                                                               {'dialog_id': '0x223f6d5e', 'dialog': [{'id': 0, 'sender': 'participant1', 'text': 'Hello', 'sender_class': 'Human'}, {'id': 1, 'sender': 'participant1', 'text': '/test', 'sender_class': 'Human'}], 'bot_profile': ['my father was a door to door salesman.', 'i've three dogs.', 'i am in an open polyamorous relationship.', 'i also have a dog walking business.'], 'user_profile': ['if i'm not cooking in the kitchen then i'm definitely on the water.', 'spiderman is my favorite.', 'hey my name is larry and i am a chef.', 'l also love comic books.', 'i love cooking but i also enjoy fishing.'], 'eval_score': 1, 'profile_match': 1}\n",
              "2                                                                                                                                                                                                                                                                                                                                                                                                                                                                                                                                                                                                                                                                                                                                                                                                                                                                                                                                                                                                                                                                                                                                                                                                                                {'dialog_id': '0x6789b32a', 'dialog': [{'id': 0, 'sender': 'participant1', 'text': 'Hey', 'sender_class': 'Human'}, {'id': 1, 'sender': 'participant1', 'text': 'What do you do?', 'sender_class': 'Human'}], 'bot_profile': ['i am a gold medalist olympian.', 'i love italian food and garlic bread.', 'my favorite color is yellow.', 'gymnastics is my favorite sport.', 'i workout four hours a day.'], 'user_profile': ['i've a german shepherd dog.', 'i live is a rural farming community.', 'my husband is adopted.', 'i like to watch nhl hockey.'], 'eval_score': 1, 'profile_match': 1}\n",
              "3                                                                                                                                                                                                                                                                                                                                                                                                                                                                                                                                                                                                                                                                                                                                                                                                                                                                                                                                                                                                                                                                                                                                                                                                                                                         {'dialog_id': '0x7304a92a', 'dialog': [{'id': 0, 'sender': 'participant2', 'text': 'I love painting, i love to paint', 'sender_class': 'Bot'}], 'bot_profile': ['i fantasize about taking over the world.', 'i'm a 56 year old woman.', 'i have two grown children who never visit.', 'i used to be a painter but now i am a housekeeper.'], 'user_profile': ['i like watching war documentaries.', 'i volunteer at a soup kitchen.', 'cheeseburgers are my favorite food.', 'i was poor growing up.', 'i'm a retired gym teacher.'], 'eval_score': 1, 'profile_match': 1}\n",
              "4                                                                                                                                                                                                                                                                                                                                                                                                                                                                                                                                                                                                                                                                                                                                                                                                                                                                                                                                                                                                                                                                                                                                                                                                                                                                                                                                   {'dialog_id': '0x7470f02a', 'dialog': [{'id': 0, 'sender': 'participant1', 'text': 'Hello', 'sender_class': 'Human'}], 'bot_profile': ['i am 40 years old.', 'i work as a car salesman.', 'my wife spends all my money.', 'i hate my job.', 'i'm planning on getting a divorce.'], 'user_profile': ['i work for our local supermarket.', 'my favorite band is the who.', 'i have never been out of ohio.', 'my favorite food is pizza with black olives.'], 'eval_score': 1, 'profile_match': 1}"
            ]
          },
          "metadata": {},
          "execution_count": 24
        }
      ]
    },
    {
      "cell_type": "code",
      "metadata": {
        "id": "6achjNni6aPW"
      },
      "source": [
        "#hacemos la primera conversion desde formato json\n",
        "formatted_dataset = pd.json_normalize(raw_dataset_transposed[0])"
      ],
      "execution_count": null,
      "outputs": []
    },
    {
      "cell_type": "code",
      "metadata": {
        "colab": {
          "base_uri": "https://localhost:8080/",
          "height": 748
        },
        "id": "WtAqfKk27Aca",
        "outputId": "d074fe93-a017-47f1-83fb-49a8fba52999"
      },
      "source": [
        "#nos queda formateado, pero con el dialogo todavia en formato json\n",
        "pd.set_option('display.max_colwidth', None)\n",
        "formatted_dataset.head(5)"
      ],
      "execution_count": null,
      "outputs": [
        {
          "output_type": "execute_result",
          "data": {
            "text/html": [
              "<div>\n",
              "<style scoped>\n",
              "    .dataframe tbody tr th:only-of-type {\n",
              "        vertical-align: middle;\n",
              "    }\n",
              "\n",
              "    .dataframe tbody tr th {\n",
              "        vertical-align: top;\n",
              "    }\n",
              "\n",
              "    .dataframe thead th {\n",
              "        text-align: right;\n",
              "    }\n",
              "</style>\n",
              "<table border=\"1\" class=\"dataframe\">\n",
              "  <thead>\n",
              "    <tr style=\"text-align: right;\">\n",
              "      <th></th>\n",
              "      <th>dialog_id</th>\n",
              "      <th>dialog</th>\n",
              "      <th>bot_profile</th>\n",
              "      <th>user_profile</th>\n",
              "      <th>eval_score</th>\n",
              "      <th>profile_match</th>\n",
              "    </tr>\n",
              "  </thead>\n",
              "  <tbody>\n",
              "    <tr>\n",
              "      <th>0</th>\n",
              "      <td>0xab38710</td>\n",
              "      <td>[{'id': 0, 'sender': 'participant2', 'text': 'I love iphone! i just bought new iphone!', 'sender_class': 'Bot'}, {'id': 1, 'sender': 'participant1', 'text': 'Thats good for you, i'm not very into new tech', 'sender_class': 'Human'}, {'id': 2, 'sender': 'participant2', 'text': 'I am a college student and i am a college student', 'sender_class': 'Bot'}, {'id': 3, 'sender': 'participant1', 'text': 'I am go to gym and live on donations', 'sender_class': 'Human'}, {'id': 4, 'sender': 'participant2', 'text': 'I am a vegan and i am in the midwest', 'sender_class': 'Bot'}, {'id': 5, 'sender': 'participant1', 'text': 'So vegan... i have dogs maybe i should told then that they may eat cheap salads insted of meat', 'sender_class': 'Human'}, {'id': 6, 'sender': 'participant2', 'text': 'I would not mind having them in the office that would be hard for me', 'sender_class': 'Bot'}, {'id': 7, 'sender': 'participant1', 'text': 'Dogs or vegan in office?', 'sender_class': 'Human'}, {'id': 8, 'sender': 'participant2', 'text': 'I am a vegetarian so i am vegan', 'sender_class': 'Bot'}, {'id': 9, 'sender': 'participant1', 'text': 'Strange answer', 'sender_class': 'Human'}, {'id': 10, 'sender': 'participant2', 'text': 'I guess i just do not know what to ps4 experience with.', 'sender_class': 'Bot'}]</td>\n",
              "      <td>[i have amazing children and grandchildren., i can sew my own clothes., i had cancer but its gone now., i am retired and living the great life., i do not have a smartphone.]</td>\n",
              "      <td>[two dogs live with me., i like doing the treadmill and rowing machine., eating is something i do when i'm bored., i have short hair., i go to the gym regularly.]</td>\n",
              "      <td>1.0</td>\n",
              "      <td>0</td>\n",
              "    </tr>\n",
              "    <tr>\n",
              "      <th>1</th>\n",
              "      <td>0x223f6d5e</td>\n",
              "      <td>[{'id': 0, 'sender': 'participant1', 'text': 'Hello', 'sender_class': 'Human'}, {'id': 1, 'sender': 'participant1', 'text': '/test', 'sender_class': 'Human'}]</td>\n",
              "      <td>[my father was a door to door salesman., i've three dogs., i am in an open polyamorous relationship., i also have a dog walking business.]</td>\n",
              "      <td>[if i'm not cooking in the kitchen then i'm definitely on the water., spiderman is my favorite., hey my name is larry and i am a chef., l also love comic books., i love cooking but i also enjoy fishing.]</td>\n",
              "      <td>1.0</td>\n",
              "      <td>1</td>\n",
              "    </tr>\n",
              "    <tr>\n",
              "      <th>2</th>\n",
              "      <td>0x6789b32a</td>\n",
              "      <td>[{'id': 0, 'sender': 'participant1', 'text': 'Hey', 'sender_class': 'Human'}, {'id': 1, 'sender': 'participant1', 'text': 'What do you do?', 'sender_class': 'Human'}]</td>\n",
              "      <td>[i am a gold medalist olympian., i love italian food and garlic bread., my favorite color is yellow., gymnastics is my favorite sport., i workout four hours a day.]</td>\n",
              "      <td>[i've a german shepherd dog., i live is a rural farming community., my husband is adopted., i like to watch nhl hockey.]</td>\n",
              "      <td>1.0</td>\n",
              "      <td>1</td>\n",
              "    </tr>\n",
              "    <tr>\n",
              "      <th>3</th>\n",
              "      <td>0x7304a92a</td>\n",
              "      <td>[{'id': 0, 'sender': 'participant2', 'text': 'I love painting, i love to paint', 'sender_class': 'Bot'}]</td>\n",
              "      <td>[i fantasize about taking over the world., i'm a 56 year old woman., i have two grown children who never visit., i used to be a painter but now i am a housekeeper.]</td>\n",
              "      <td>[i like watching war documentaries., i volunteer at a soup kitchen., cheeseburgers are my favorite food., i was poor growing up., i'm a retired gym teacher.]</td>\n",
              "      <td>1.0</td>\n",
              "      <td>1</td>\n",
              "    </tr>\n",
              "    <tr>\n",
              "      <th>4</th>\n",
              "      <td>0x7470f02a</td>\n",
              "      <td>[{'id': 0, 'sender': 'participant1', 'text': 'Hello', 'sender_class': 'Human'}]</td>\n",
              "      <td>[i am 40 years old., i work as a car salesman., my wife spends all my money., i hate my job., i'm planning on getting a divorce.]</td>\n",
              "      <td>[i work for our local supermarket., my favorite band is the who., i have never been out of ohio., my favorite food is pizza with black olives.]</td>\n",
              "      <td>1.0</td>\n",
              "      <td>1</td>\n",
              "    </tr>\n",
              "  </tbody>\n",
              "</table>\n",
              "</div>"
            ],
            "text/plain": [
              "    dialog_id  ... profile_match\n",
              "0   0xab38710  ...             0\n",
              "1  0x223f6d5e  ...             1\n",
              "2  0x6789b32a  ...             1\n",
              "3  0x7304a92a  ...             1\n",
              "4  0x7470f02a  ...             1\n",
              "\n",
              "[5 rows x 6 columns]"
            ]
          },
          "metadata": {},
          "execution_count": 26
        }
      ]
    },
    {
      "cell_type": "code",
      "metadata": {
        "colab": {
          "base_uri": "https://localhost:8080/"
        },
        "id": "DxDRB4088oNt",
        "outputId": "cf46a881-c5fa-408a-b775-9f0a5a367c33"
      },
      "source": [
        "#cantidad de dialogos diferentes\n",
        "index = formatted_dataset.index\n",
        "number_of_rows = len(index)\n",
        "print(number_of_rows)"
      ],
      "execution_count": null,
      "outputs": [
        {
          "output_type": "stream",
          "name": "stdout",
          "text": [
            "3495\n"
          ]
        }
      ]
    },
    {
      "cell_type": "code",
      "metadata": {
        "colab": {
          "base_uri": "https://localhost:8080/"
        },
        "id": "oVM2V4RO8zAD",
        "outputId": "ad094b24-3a44-413a-a05a-516444fa1cdd"
      },
      "source": [
        "#imprimimos solo el dialog que esta todavia en formato json\n",
        "formatted_dataset.dialog.head(10)"
      ],
      "execution_count": null,
      "outputs": [
        {
          "output_type": "execute_result",
          "data": {
            "text/plain": [
              "0    [{'id': 0, 'sender': 'participant2', 'text': 'I love iphone! i just bought new iphone!', 'sender_class': 'Bot'}, {'id': 1, 'sender': 'participant1', 'text': 'Thats good for you, i'm not very into new tech', 'sender_class': 'Human'}, {'id': 2, 'sender': 'participant2', 'text': 'I am a college student and i am a college student', 'sender_class': 'Bot'}, {'id': 3, 'sender': 'participant1', 'text': 'I am go to gym and live on donations', 'sender_class': 'Human'}, {'id': 4, 'sender': 'participant2', 'text': 'I am a vegan and i am in the midwest', 'sender_class': 'Bot'}, {'id': 5, 'sender': 'participant1', 'text': 'So vegan... i have dogs maybe i should told then that they may eat cheap salads insted of meat', 'sender_class': 'Human'}, {'id': 6, 'sender': 'participant2', 'text': 'I would not mind having them in the office that would be hard for me', 'sender_class': 'Bot'}, {'id': 7, 'sender': 'participant1', 'text': 'Dogs or vegan in office?', 'sender_class': 'Human'}, {'id': 8, 'sender': 'participant2', 'text': 'I am a vegetarian so i am vegan', 'sender_class': 'Bot'}, {'id': 9, 'sender': 'participant1', 'text': 'Strange answer', 'sender_class': 'Human'}, {'id': 10, 'sender': 'participant2', 'text': 'I guess i just do not know what to ps4 experience with.', 'sender_class': 'Bot'}]\n",
              "1                                                                                                                                                                                                                                                                                                                                                                                                                                                                                                                                                                                                                                                                                                                                                                                                                                                                                                                                                                                                                                                                                                                                                                                      [{'id': 0, 'sender': 'participant1', 'text': 'Hello', 'sender_class': 'Human'}, {'id': 1, 'sender': 'participant1', 'text': '/test', 'sender_class': 'Human'}]\n",
              "2                                                                                                                                                                                                                                                                                                                                                                                                                                                                                                                                                                                                                                                                                                                                                                                                                                                                                                                                                                                                                                                                                                                                                                              [{'id': 0, 'sender': 'participant1', 'text': 'Hey', 'sender_class': 'Human'}, {'id': 1, 'sender': 'participant1', 'text': 'What do you do?', 'sender_class': 'Human'}]\n",
              "3                                                                                                                                                                                                                                                                                                                                                                                                                                                                                                                                                                                                                                                                                                                                                                                                                                                                                                                                                                                                                                                                                                                                                                                                                                            [{'id': 0, 'sender': 'participant2', 'text': 'I love painting, i love to paint', 'sender_class': 'Bot'}]\n",
              "4                                                                                                                                                                                                                                                                                                                                                                                                                                                                                                                                                                                                                                                                                                                                                                                                                                                                                                                                                                                                                                                                                                                                                                                                                                                                     [{'id': 0, 'sender': 'participant1', 'text': 'Hello', 'sender_class': 'Human'}]\n",
              "5                                                                                                                                                                                                                                                                                                                                                                                                                                                                                                                                                                                                                                                                                                                                                                                                                                                                                                                                                                                                                                                                                                                                                                                                                                                                      [{'id': 0, 'sender': 'participant2', 'text': '/start', 'sender_class': 'Bot'}]\n",
              "6                                                                                                                                                                                                                                                                                                                                                                                                                                                                                                                                                                                                                                                                                                                                                                                                                                                                                                                                                                                                                                                                                                                                                                                                                                                                     [{'id': 0, 'sender': 'participant1', 'text': 'Hello', 'sender_class': 'Human'}]\n",
              "7                                                                                                                                                                                                                                                                                                                                                                                                                                                                                                                                                                                                                                                                                                                                                                                                                                                                                                                                                                                                                                                                                                                                                 [{'id': 0, 'sender': 'participant2', 'text': '\"Municipal Junior High School Entrance Ceremony\" The next year, I left home to live in the dorms at the junior high school.', 'sender_class': 'Bot'}]\n",
              "8                                                                                                                                                                                                                                                                                                                                                                                                                                                                                                                                                                                                                                                                                                                                                                                                                                                                                                                                                                                                                                                                                                                                                                                                                                                                     [{'id': 0, 'sender': 'participant1', 'text': 'Hello', 'sender_class': 'Human'}]\n",
              "9                                                                                                                                                                                                                                                                                                                                                                                                                                                                                                                                                                                                                                                                                                                                                                                                                                                                                                                                                                                                                                                                                                                                                                                                                                                                        [{'id': 0, 'sender': 'participant1', 'text': 'Hi', 'sender_class': 'Human'}]\n",
              "Name: dialog, dtype: object"
            ]
          },
          "metadata": {},
          "execution_count": 28
        }
      ]
    },
    {
      "cell_type": "code",
      "metadata": {
        "colab": {
          "base_uri": "https://localhost:8080/",
          "height": 390
        },
        "id": "I7miDgebIZ_J",
        "outputId": "ed9bd02e-e288-44d5-954f-0019df7e1c2e"
      },
      "source": [
        "#el primer dialogo con su codigo de id correspondiente, descartando el resto de la información por no ser relevante para nuestro tp\n",
        "testdialog0=pd.json_normalize(formatted_dataset.dialog[0])\n",
        "testdialog0['dialog_id']=formatted_dataset.dialog_id[0]\n",
        "testdialog0.head(1000)\n"
      ],
      "execution_count": null,
      "outputs": [
        {
          "output_type": "execute_result",
          "data": {
            "text/html": [
              "<div>\n",
              "<style scoped>\n",
              "    .dataframe tbody tr th:only-of-type {\n",
              "        vertical-align: middle;\n",
              "    }\n",
              "\n",
              "    .dataframe tbody tr th {\n",
              "        vertical-align: top;\n",
              "    }\n",
              "\n",
              "    .dataframe thead th {\n",
              "        text-align: right;\n",
              "    }\n",
              "</style>\n",
              "<table border=\"1\" class=\"dataframe\">\n",
              "  <thead>\n",
              "    <tr style=\"text-align: right;\">\n",
              "      <th></th>\n",
              "      <th>id</th>\n",
              "      <th>sender</th>\n",
              "      <th>text</th>\n",
              "      <th>sender_class</th>\n",
              "      <th>dialog_id</th>\n",
              "    </tr>\n",
              "  </thead>\n",
              "  <tbody>\n",
              "    <tr>\n",
              "      <th>0</th>\n",
              "      <td>0</td>\n",
              "      <td>participant2</td>\n",
              "      <td>I love iphone! i just bought new iphone!</td>\n",
              "      <td>Bot</td>\n",
              "      <td>0xab38710</td>\n",
              "    </tr>\n",
              "    <tr>\n",
              "      <th>1</th>\n",
              "      <td>1</td>\n",
              "      <td>participant1</td>\n",
              "      <td>Thats good for you, i'm not very into new tech</td>\n",
              "      <td>Human</td>\n",
              "      <td>0xab38710</td>\n",
              "    </tr>\n",
              "    <tr>\n",
              "      <th>2</th>\n",
              "      <td>2</td>\n",
              "      <td>participant2</td>\n",
              "      <td>I am a college student and i am a college student</td>\n",
              "      <td>Bot</td>\n",
              "      <td>0xab38710</td>\n",
              "    </tr>\n",
              "    <tr>\n",
              "      <th>3</th>\n",
              "      <td>3</td>\n",
              "      <td>participant1</td>\n",
              "      <td>I am go to gym and live on donations</td>\n",
              "      <td>Human</td>\n",
              "      <td>0xab38710</td>\n",
              "    </tr>\n",
              "    <tr>\n",
              "      <th>4</th>\n",
              "      <td>4</td>\n",
              "      <td>participant2</td>\n",
              "      <td>I am a vegan and i am in the midwest</td>\n",
              "      <td>Bot</td>\n",
              "      <td>0xab38710</td>\n",
              "    </tr>\n",
              "    <tr>\n",
              "      <th>5</th>\n",
              "      <td>5</td>\n",
              "      <td>participant1</td>\n",
              "      <td>So vegan... i have dogs maybe i should told then that they may eat cheap salads insted of meat</td>\n",
              "      <td>Human</td>\n",
              "      <td>0xab38710</td>\n",
              "    </tr>\n",
              "    <tr>\n",
              "      <th>6</th>\n",
              "      <td>6</td>\n",
              "      <td>participant2</td>\n",
              "      <td>I would not mind having them in the office that would be hard for me</td>\n",
              "      <td>Bot</td>\n",
              "      <td>0xab38710</td>\n",
              "    </tr>\n",
              "    <tr>\n",
              "      <th>7</th>\n",
              "      <td>7</td>\n",
              "      <td>participant1</td>\n",
              "      <td>Dogs or vegan in office?</td>\n",
              "      <td>Human</td>\n",
              "      <td>0xab38710</td>\n",
              "    </tr>\n",
              "    <tr>\n",
              "      <th>8</th>\n",
              "      <td>8</td>\n",
              "      <td>participant2</td>\n",
              "      <td>I am a vegetarian so i am vegan</td>\n",
              "      <td>Bot</td>\n",
              "      <td>0xab38710</td>\n",
              "    </tr>\n",
              "    <tr>\n",
              "      <th>9</th>\n",
              "      <td>9</td>\n",
              "      <td>participant1</td>\n",
              "      <td>Strange answer</td>\n",
              "      <td>Human</td>\n",
              "      <td>0xab38710</td>\n",
              "    </tr>\n",
              "    <tr>\n",
              "      <th>10</th>\n",
              "      <td>10</td>\n",
              "      <td>participant2</td>\n",
              "      <td>I guess i just do not know what to ps4 experience with.</td>\n",
              "      <td>Bot</td>\n",
              "      <td>0xab38710</td>\n",
              "    </tr>\n",
              "  </tbody>\n",
              "</table>\n",
              "</div>"
            ],
            "text/plain": [
              "    id        sender  ... sender_class  dialog_id\n",
              "0    0  participant2  ...          Bot  0xab38710\n",
              "1    1  participant1  ...        Human  0xab38710\n",
              "2    2  participant2  ...          Bot  0xab38710\n",
              "3    3  participant1  ...        Human  0xab38710\n",
              "4    4  participant2  ...          Bot  0xab38710\n",
              "5    5  participant1  ...        Human  0xab38710\n",
              "6    6  participant2  ...          Bot  0xab38710\n",
              "7    7  participant1  ...        Human  0xab38710\n",
              "8    8  participant2  ...          Bot  0xab38710\n",
              "9    9  participant1  ...        Human  0xab38710\n",
              "10  10  participant2  ...          Bot  0xab38710\n",
              "\n",
              "[11 rows x 5 columns]"
            ]
          },
          "metadata": {},
          "execution_count": 29
        }
      ]
    },
    {
      "cell_type": "code",
      "metadata": {
        "id": "pjEUu8EzWoxv"
      },
      "source": [
        "#generamos un dataframe con todos los dialogos agregando el dialog_id para agrupar cada conversacion\n",
        "\n",
        "#creamos el dataframe\n",
        "df = pd.DataFrame()\n",
        "\n",
        "#primer dialogo agregado al dataframe convirtiendo cada json de la columna dialog\n",
        "testdialog_temp=pd.json_normalize(formatted_dataset.dialog[0])\n",
        "testdialog_temp['dialog_id']=formatted_dataset.dialog_id[0]\n",
        "df = testdialog_temp\n",
        "\n",
        "#iteramos con todos los elementos\n",
        "index = formatted_dataset.index\n",
        "number_of_rows = len(index)\n",
        "\n",
        "for i in range(1, number_of_rows):\n",
        "  testdialog_temp=pd.json_normalize(formatted_dataset.dialog[i])\n",
        "  testdialog_temp['dialog_id']=formatted_dataset.dialog_id[i]\n",
        "  df=df.append(testdialog_temp)"
      ],
      "execution_count": null,
      "outputs": []
    },
    {
      "cell_type": "code",
      "metadata": {
        "colab": {
          "base_uri": "https://localhost:8080/",
          "height": 419
        },
        "id": "d6SLDHqRZ4tt",
        "outputId": "da895a77-caf5-4097-9244-f033eba4d553"
      },
      "source": [
        "#nos quedan todos los dialogos con id de cada interaccion agrupadas por dialog_id y con la etiqueta correspondiente de 'Bot' o 'Human'\n",
        "df.head(100)"
      ],
      "execution_count": null,
      "outputs": [
        {
          "output_type": "execute_result",
          "data": {
            "text/html": [
              "<div>\n",
              "<style scoped>\n",
              "    .dataframe tbody tr th:only-of-type {\n",
              "        vertical-align: middle;\n",
              "    }\n",
              "\n",
              "    .dataframe tbody tr th {\n",
              "        vertical-align: top;\n",
              "    }\n",
              "\n",
              "    .dataframe thead th {\n",
              "        text-align: right;\n",
              "    }\n",
              "</style>\n",
              "<table border=\"1\" class=\"dataframe\">\n",
              "  <thead>\n",
              "    <tr style=\"text-align: right;\">\n",
              "      <th></th>\n",
              "      <th>id</th>\n",
              "      <th>sender</th>\n",
              "      <th>text</th>\n",
              "      <th>sender_class</th>\n",
              "      <th>dialog_id</th>\n",
              "    </tr>\n",
              "  </thead>\n",
              "  <tbody>\n",
              "    <tr>\n",
              "      <th>0</th>\n",
              "      <td>0</td>\n",
              "      <td>participant2</td>\n",
              "      <td>I love iphone! i just bought new iphone!</td>\n",
              "      <td>Bot</td>\n",
              "      <td>0xab38710</td>\n",
              "    </tr>\n",
              "    <tr>\n",
              "      <th>1</th>\n",
              "      <td>1</td>\n",
              "      <td>participant1</td>\n",
              "      <td>Thats good for you, i'm not very into new tech</td>\n",
              "      <td>Human</td>\n",
              "      <td>0xab38710</td>\n",
              "    </tr>\n",
              "    <tr>\n",
              "      <th>2</th>\n",
              "      <td>2</td>\n",
              "      <td>participant2</td>\n",
              "      <td>I am a college student and i am a college student</td>\n",
              "      <td>Bot</td>\n",
              "      <td>0xab38710</td>\n",
              "    </tr>\n",
              "    <tr>\n",
              "      <th>3</th>\n",
              "      <td>3</td>\n",
              "      <td>participant1</td>\n",
              "      <td>I am go to gym and live on donations</td>\n",
              "      <td>Human</td>\n",
              "      <td>0xab38710</td>\n",
              "    </tr>\n",
              "    <tr>\n",
              "      <th>4</th>\n",
              "      <td>4</td>\n",
              "      <td>participant2</td>\n",
              "      <td>I am a vegan and i am in the midwest</td>\n",
              "      <td>Bot</td>\n",
              "      <td>0xab38710</td>\n",
              "    </tr>\n",
              "    <tr>\n",
              "      <th>...</th>\n",
              "      <td>...</td>\n",
              "      <td>...</td>\n",
              "      <td>...</td>\n",
              "      <td>...</td>\n",
              "      <td>...</td>\n",
              "    </tr>\n",
              "    <tr>\n",
              "      <th>1</th>\n",
              "      <td>1</td>\n",
              "      <td>participant1</td>\n",
              "      <td>Hi</td>\n",
              "      <td>Human</td>\n",
              "      <td>0x823c044</td>\n",
              "    </tr>\n",
              "    <tr>\n",
              "      <th>2</th>\n",
              "      <td>2</td>\n",
              "      <td>participant2</td>\n",
              "      <td>i like coffee , but i like coffee too</td>\n",
              "      <td>Bot</td>\n",
              "      <td>0x823c044</td>\n",
              "    </tr>\n",
              "    <tr>\n",
              "      <th>3</th>\n",
              "      <td>3</td>\n",
              "      <td>participant1</td>\n",
              "      <td>I like drinking tea while reading some books</td>\n",
              "      <td>Human</td>\n",
              "      <td>0x823c044</td>\n",
              "    </tr>\n",
              "    <tr>\n",
              "      <th>4</th>\n",
              "      <td>4</td>\n",
              "      <td>participant2</td>\n",
              "      <td>i like red , reminds me of summer time , which is why i hate it .</td>\n",
              "      <td>Bot</td>\n",
              "      <td>0x823c044</td>\n",
              "    </tr>\n",
              "    <tr>\n",
              "      <th>5</th>\n",
              "      <td>5</td>\n",
              "      <td>participant1</td>\n",
              "      <td>So you like it or hate it?</td>\n",
              "      <td>Human</td>\n",
              "      <td>0x823c044</td>\n",
              "    </tr>\n",
              "  </tbody>\n",
              "</table>\n",
              "<p>100 rows × 5 columns</p>\n",
              "</div>"
            ],
            "text/plain": [
              "    id        sender  ... sender_class  dialog_id\n",
              "0    0  participant2  ...          Bot  0xab38710\n",
              "1    1  participant1  ...        Human  0xab38710\n",
              "2    2  participant2  ...          Bot  0xab38710\n",
              "3    3  participant1  ...        Human  0xab38710\n",
              "4    4  participant2  ...          Bot  0xab38710\n",
              "..  ..           ...  ...          ...        ...\n",
              "1    1  participant1  ...        Human  0x823c044\n",
              "2    2  participant2  ...          Bot  0x823c044\n",
              "3    3  participant1  ...        Human  0x823c044\n",
              "4    4  participant2  ...          Bot  0x823c044\n",
              "5    5  participant1  ...        Human  0x823c044\n",
              "\n",
              "[100 rows x 5 columns]"
            ]
          },
          "metadata": {},
          "execution_count": 31
        }
      ]
    },
    {
      "cell_type": "code",
      "metadata": {
        "colab": {
          "base_uri": "https://localhost:8080/"
        },
        "id": "-qtErXeoaneQ",
        "outputId": "bb9513a1-462c-40af-e3d1-05074109e28e"
      },
      "source": [
        "#cantidad de dialogos diferentes\n",
        "df['dialog_id'].nunique()"
      ],
      "execution_count": null,
      "outputs": [
        {
          "output_type": "execute_result",
          "data": {
            "text/plain": [
              "3495"
            ]
          },
          "metadata": {},
          "execution_count": 32
        }
      ]
    },
    {
      "cell_type": "code",
      "metadata": {
        "colab": {
          "base_uri": "https://localhost:8080/"
        },
        "id": "EN0oridvcOyQ",
        "outputId": "8bed9de3-4c3b-473b-ea5c-fb76cb818138"
      },
      "source": [
        "#cantidad de interacciones\n",
        "df['dialog_id'].count()"
      ],
      "execution_count": null,
      "outputs": [
        {
          "output_type": "execute_result",
          "data": {
            "text/plain": [
              "47234"
            ]
          },
          "metadata": {},
          "execution_count": 33
        }
      ]
    },
    {
      "cell_type": "code",
      "metadata": {
        "id": "8vaXwv7BRpsJ",
        "colab": {
          "base_uri": "https://localhost:8080/",
          "height": 419
        },
        "outputId": "5bcd4438-e19f-4fac-b5cb-4672fe1e77f3"
      },
      "source": [
        "df"
      ],
      "execution_count": null,
      "outputs": [
        {
          "output_type": "execute_result",
          "data": {
            "text/html": [
              "<div>\n",
              "<style scoped>\n",
              "    .dataframe tbody tr th:only-of-type {\n",
              "        vertical-align: middle;\n",
              "    }\n",
              "\n",
              "    .dataframe tbody tr th {\n",
              "        vertical-align: top;\n",
              "    }\n",
              "\n",
              "    .dataframe thead th {\n",
              "        text-align: right;\n",
              "    }\n",
              "</style>\n",
              "<table border=\"1\" class=\"dataframe\">\n",
              "  <thead>\n",
              "    <tr style=\"text-align: right;\">\n",
              "      <th></th>\n",
              "      <th>id</th>\n",
              "      <th>sender</th>\n",
              "      <th>text</th>\n",
              "      <th>sender_class</th>\n",
              "      <th>dialog_id</th>\n",
              "    </tr>\n",
              "  </thead>\n",
              "  <tbody>\n",
              "    <tr>\n",
              "      <th>0</th>\n",
              "      <td>0</td>\n",
              "      <td>participant2</td>\n",
              "      <td>I love iphone! i just bought new iphone!</td>\n",
              "      <td>Bot</td>\n",
              "      <td>0xab38710</td>\n",
              "    </tr>\n",
              "    <tr>\n",
              "      <th>1</th>\n",
              "      <td>1</td>\n",
              "      <td>participant1</td>\n",
              "      <td>Thats good for you, i'm not very into new tech</td>\n",
              "      <td>Human</td>\n",
              "      <td>0xab38710</td>\n",
              "    </tr>\n",
              "    <tr>\n",
              "      <th>2</th>\n",
              "      <td>2</td>\n",
              "      <td>participant2</td>\n",
              "      <td>I am a college student and i am a college student</td>\n",
              "      <td>Bot</td>\n",
              "      <td>0xab38710</td>\n",
              "    </tr>\n",
              "    <tr>\n",
              "      <th>3</th>\n",
              "      <td>3</td>\n",
              "      <td>participant1</td>\n",
              "      <td>I am go to gym and live on donations</td>\n",
              "      <td>Human</td>\n",
              "      <td>0xab38710</td>\n",
              "    </tr>\n",
              "    <tr>\n",
              "      <th>4</th>\n",
              "      <td>4</td>\n",
              "      <td>participant2</td>\n",
              "      <td>I am a vegan and i am in the midwest</td>\n",
              "      <td>Bot</td>\n",
              "      <td>0xab38710</td>\n",
              "    </tr>\n",
              "    <tr>\n",
              "      <th>...</th>\n",
              "      <td>...</td>\n",
              "      <td>...</td>\n",
              "      <td>...</td>\n",
              "      <td>...</td>\n",
              "      <td>...</td>\n",
              "    </tr>\n",
              "    <tr>\n",
              "      <th>16</th>\n",
              "      <td>16</td>\n",
              "      <td>participant2</td>\n",
              "      <td>yes , i love to hear voices .</td>\n",
              "      <td>Bot</td>\n",
              "      <td>0x14f93908</td>\n",
              "    </tr>\n",
              "    <tr>\n",
              "      <th>17</th>\n",
              "      <td>17</td>\n",
              "      <td>participant1</td>\n",
              "      <td>Cool! What voices do you hear?</td>\n",
              "      <td>Human</td>\n",
              "      <td>0x14f93908</td>\n",
              "    </tr>\n",
              "    <tr>\n",
              "      <th>18</th>\n",
              "      <td>18</td>\n",
              "      <td>participant2</td>\n",
              "      <td>i am a little conservative , but i do not have a lot of time to do .</td>\n",
              "      <td>Bot</td>\n",
              "      <td>0x14f93908</td>\n",
              "    </tr>\n",
              "    <tr>\n",
              "      <th>19</th>\n",
              "      <td>19</td>\n",
              "      <td>participant1</td>\n",
              "      <td>I understand. See you later!</td>\n",
              "      <td>Human</td>\n",
              "      <td>0x14f93908</td>\n",
              "    </tr>\n",
              "    <tr>\n",
              "      <th>20</th>\n",
              "      <td>20</td>\n",
              "      <td>participant2</td>\n",
              "      <td>i do , but i am not very good at it .</td>\n",
              "      <td>Bot</td>\n",
              "      <td>0x14f93908</td>\n",
              "    </tr>\n",
              "  </tbody>\n",
              "</table>\n",
              "<p>47234 rows × 5 columns</p>\n",
              "</div>"
            ],
            "text/plain": [
              "    id        sender  ... sender_class   dialog_id\n",
              "0    0  participant2  ...          Bot   0xab38710\n",
              "1    1  participant1  ...        Human   0xab38710\n",
              "2    2  participant2  ...          Bot   0xab38710\n",
              "3    3  participant1  ...        Human   0xab38710\n",
              "4    4  participant2  ...          Bot   0xab38710\n",
              "..  ..           ...  ...          ...         ...\n",
              "16  16  participant2  ...          Bot  0x14f93908\n",
              "17  17  participant1  ...        Human  0x14f93908\n",
              "18  18  participant2  ...          Bot  0x14f93908\n",
              "19  19  participant1  ...        Human  0x14f93908\n",
              "20  20  participant2  ...          Bot  0x14f93908\n",
              "\n",
              "[47234 rows x 5 columns]"
            ]
          },
          "metadata": {},
          "execution_count": 34
        }
      ]
    },
    {
      "cell_type": "code",
      "metadata": {
        "id": "sLafS9TiDQAU"
      },
      "source": [
        "# Daro - Prueba con NLTK\n",
        "\n",
        "import nltk\n",
        "#nltk.download('punkt')\n",
        "#nltk.download('averaged_perceptron_tagger')\n",
        "#nltk.download('maxent_ne_chunker')\n",
        "#nltk.download('words')\n",
        "\n",
        "#sentence = \"\"\"I love iphone! i just bought new iphone!\"\"\"\n",
        "#tokens = nltk.word_tokenize(sentence)\n",
        "#print(tokens)\n",
        "#tagged = nltk.pos_tag(tokens)\n",
        "#print(tagged)\n",
        "#entities = nltk.chunk.ne_chunk(tagged)\n",
        "#print(entities)\n"
      ],
      "execution_count": null,
      "outputs": []
    },
    {
      "cell_type": "code",
      "metadata": {
        "colab": {
          "base_uri": "https://localhost:8080/"
        },
        "id": "R1-xvWrjF6IJ",
        "outputId": "422ac221-debc-411e-aaf9-ebd40f20364c"
      },
      "source": [
        "# DARO - prueba con spacy\n",
        "\n",
        "import spacy\n",
        "\n",
        "nlp = spacy.load(\"en_core_web_sm\")\n",
        "doc = nlp(\"Apple is looking at buying U.K. startup for $1 billion\")\n",
        "\n",
        "for token in doc:\n",
        "    print(token.text, token.lemma_, token.pos_, token.tag_, token.dep_,\n",
        "            token.shape_, token.is_alpha, token.is_stop)"
      ],
      "execution_count": null,
      "outputs": [
        {
          "output_type": "stream",
          "name": "stdout",
          "text": [
            "Apple Apple PROPN NNP nsubj Xxxxx True False\n",
            "is be AUX VBZ aux xx True True\n",
            "looking look VERB VBG ROOT xxxx True False\n",
            "at at ADP IN prep xx True True\n",
            "buying buy VERB VBG pcomp xxxx True False\n",
            "U.K. U.K. PROPN NNP compound X.X. False False\n",
            "startup startup NOUN NN dobj xxxx True False\n",
            "for for ADP IN prep xxx True True\n",
            "$ $ SYM $ quantmod $ False False\n",
            "1 1 NUM CD compound d False False\n",
            "billion billion NUM CD pobj xxxx True False\n"
          ]
        }
      ]
    },
    {
      "cell_type": "code",
      "metadata": {
        "id": "sMxXx-08ETQX"
      },
      "source": [
        "from spacy.lang.en import English\n",
        "\n",
        "\n",
        "def filter_stop_words(text):\n",
        "  # Load English tokenizer, tagger, parser, NER and word vectors\n",
        "  nlp = English()\n",
        "\n",
        "  #  \"nlp\" Object is used to create documents with linguistic annotations.\n",
        "  my_doc = nlp(text)\n",
        "\n",
        "  # Create list of word tokens\n",
        "  token_list = []\n",
        "  for token in my_doc:\n",
        "      token_list.append(token.text)\n",
        "\n",
        "  from spacy.lang.en.stop_words import STOP_WORDS\n",
        "\n",
        "  # Create list of word tokens after removing stopwords\n",
        "  filtered_sentence =[] \n",
        "\n",
        "  for word in token_list:\n",
        "      lexeme = nlp.vocab[word]\n",
        "      if lexeme.is_stop == False:\n",
        "          filtered_sentence.append(word) \n",
        "  return filtered_sentence\n",
        "\n",
        "\n",
        "filtered_tokens_col = []\n",
        "for value in df[\"text\"]:\n",
        "  filtered_tokens_col.append(filter_stop_words(value))\n",
        "       \n",
        "df[\"filtered_tokens_col\"] = filtered_tokens_col\n",
        "\n",
        "\n",
        "\n"
      ],
      "execution_count": null,
      "outputs": []
    },
    {
      "cell_type": "code",
      "metadata": {
        "id": "A0hSb1L_N21C",
        "colab": {
          "base_uri": "https://localhost:8080/"
        },
        "outputId": "dcf7e947-cd85-4270-aaad-2d9183ac3689"
      },
      "source": [
        "# Import Drive API and authenticate.\n",
        "from google.colab import drive\n",
        "\n",
        "# Mount your Drive to the Colab VM.\n",
        "drive.mount('/gdrive')\n",
        "\n",
        "# Write the DataFrame to CSV file.\n",
        "df.to_csv('/gdrive/My Drive/df-filtered.csv')"
      ],
      "execution_count": null,
      "outputs": [
        {
          "output_type": "stream",
          "name": "stdout",
          "text": [
            "Drive already mounted at /gdrive; to attempt to forcibly remount, call drive.mount(\"/gdrive\", force_remount=True).\n"
          ]
        }
      ]
    }
  ]
}