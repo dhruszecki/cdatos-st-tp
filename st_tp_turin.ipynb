{
  "nbformat": 4,
  "nbformat_minor": 0,
  "metadata": {
    "colab": {
      "name": "st-tp-turin.ipynb",
      "provenance": [],
      "authorship_tag": "ABX9TyOzJIicO9v8Yt8B00rAmhif",
      "include_colab_link": true
    },
    "kernelspec": {
      "name": "python3",
      "display_name": "Python 3"
    },
    "language_info": {
      "name": "python"
    }
  },
  "cells": [
    {
      "cell_type": "markdown",
      "metadata": {
        "id": "view-in-github",
        "colab_type": "text"
      },
      "source": [
        "<a href=\"https://colab.research.google.com/github/dhruszecki/cdatos-st-tp/blob/main/st_tp_turin.ipynb\" target=\"_parent\"><img src=\"https://colab.research.google.com/assets/colab-badge.svg\" alt=\"Open In Colab\"/></a>"
      ]
    },
    {
      "cell_type": "code",
      "metadata": {
        "id": "0FUwN44r_d0t"
      },
      "source": [
        "import librosa\n",
        "import glob\n",
        "import numpy as np\n",
        "import seaborn as sns\n",
        "import pandas as pd\n",
        "\n",
        "import os\n",
        "import os.path\n",
        "from os import path\n",
        "\n",
        "import matplotlib.pyplot as plt\n",
        "\n",
        "from enum import Enum\n",
        "from time import time\n",
        "\n",
        "from IPython.display import Audio\n",
        "from librosa.display import specshow\n",
        "from sklearn.ensemble import GradientBoostingClassifier\n",
        "from sklearn.ensemble import RandomForestClassifier\n",
        "from sklearn.metrics import classification_report\n",
        "from sklearn.metrics import confusion_matrix\n",
        "from sklearn.model_selection import ParameterSampler\n",
        "from sklearn.model_selection import PredefinedSplit\n",
        "from sklearn.model_selection import RandomizedSearchCV\n",
        "from sklearn.naive_bayes import GaussianNB\n",
        "from sklearn.preprocessing import OneHotEncoder\n",
        "from sklearn.preprocessing import StandardScaler\n",
        "\n",
        "import tensorflow as tf\n",
        "import tensorflow.keras.layers as tfkl"
      ],
      "execution_count": 5,
      "outputs": []
    },
    {
      "cell_type": "markdown",
      "metadata": {
        "id": "nRrKlbtRAcU3"
      },
      "source": [
        "# Utils"
      ]
    },
    {
      "cell_type": "code",
      "metadata": {
        "id": "SYrbmdyiA8H5"
      },
      "source": [
        "def download_dataset_if_needed(filename):\n",
        "    if not path.exists(\"dataset/\"+filename):\n",
        "        url = \"https://raw.githubusercontent.com/dhruszecki/cdatos-ST-TP/main/data/\"+filename\n",
        "        !wget {url} -P dataset\n",
        "    else:\n",
        "        print(\"data/\" + filename, \" already exists! :)\")"
      ],
      "execution_count": 11,
      "outputs": []
    },
    {
      "cell_type": "code",
      "metadata": {
        "colab": {
          "base_uri": "https://localhost:8080/"
        },
        "id": "jfA9Zg7TEXlg",
        "outputId": "a6a627b5-ab82-4522-a0b9-7dff90205a09"
      },
      "source": [
        "download_dataset_if_needed(\"games.jsonl\")"
      ],
      "execution_count": 12,
      "outputs": [
        {
          "output_type": "stream",
          "text": [
            "--2021-08-25 20:52:46--  https://raw.githubusercontent.com/dhruszecki/cdatos-ST-TP/main/data/games.jsonl\n",
            "Resolving raw.githubusercontent.com (raw.githubusercontent.com)... 185.199.108.133, 185.199.111.133, 185.199.109.133, ...\n",
            "Connecting to raw.githubusercontent.com (raw.githubusercontent.com)|185.199.108.133|:443... connected.\n",
            "HTTP request sent, awaiting response... 200 OK\n",
            "Length: 2578631 (2.5M) [text/plain]\n",
            "Saving to: ‘dataset/games.jsonl’\n",
            "\n",
            "\rgames.jsonl           0%[                    ]       0  --.-KB/s               \rgames.jsonl         100%[===================>]   2.46M  --.-KB/s    in 0.04s   \n",
            "\n",
            "2021-08-25 20:52:47 (61.0 MB/s) - ‘dataset/games.jsonl’ saved [2578631/2578631]\n",
            "\n"
          ],
          "name": "stdout"
        }
      ]
    }
  ]
}