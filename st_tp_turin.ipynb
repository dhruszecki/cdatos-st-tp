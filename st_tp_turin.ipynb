{
  "nbformat": 4,
  "nbformat_minor": 0,
  "metadata": {
    "colab": {
      "name": "st-tp-turin.ipynb",
      "provenance": [],
      "include_colab_link": true
    },
    "kernelspec": {
      "name": "python3",
      "display_name": "Python 3"
    },
    "language_info": {
      "name": "python"
    }
  },
  "cells": [
    {
      "cell_type": "markdown",
      "metadata": {
        "id": "view-in-github",
        "colab_type": "text"
      },
      "source": [
        "<a href=\"https://colab.research.google.com/github/dhruszecki/cdatos-st-tp/blob/main/st_tp_turin.ipynb\" target=\"_parent\"><img src=\"https://colab.research.google.com/assets/colab-badge.svg\" alt=\"Open In Colab\"/></a>"
      ]
    },
    {
      "cell_type": "code",
      "metadata": {
        "id": "0FUwN44r_d0t",
        "colab": {
          "base_uri": "https://localhost:8080/"
        },
        "outputId": "5dd0206b-01db-4fce-eb10-a4fe5754a6de"
      },
      "source": [
        "import numpy as np\n",
        "import pandas as pd\n",
        "\n",
        "import os\n",
        "import os.path\n",
        "from os import path\n",
        "\n",
        "import matplotlib.pyplot as plt\n",
        "\n",
        "from enum import Enum\n",
        "from time import time\n",
        "\n",
        "\n",
        "# para ejecutar desde google colab, con notebook en el directorio donde están los demás archivos\n",
        "from google.colab import drive\n",
        "drive.mount('/content/gdrive')"
      ],
      "execution_count": 2,
      "outputs": [
        {
          "output_type": "stream",
          "name": "stdout",
          "text": [
            "Mounted at /content/gdrive\n"
          ]
        }
      ]
    },
    {
      "cell_type": "markdown",
      "metadata": {
        "id": "nRrKlbtRAcU3"
      },
      "source": [
        "# Utils"
      ]
    },
    {
      "cell_type": "code",
      "metadata": {
        "id": "SYrbmdyiA8H5"
      },
      "source": [
        "def download_dataset_if_needed(filename):\n",
        "    if not path.exists(\"dataset/\"+filename):\n",
        "        url = \"https://raw.githubusercontent.com/dhruszecki/cdatos-ST-TP/main/data/\"+filename\n",
        "        !wget {url} -P dataset\n",
        "    else:\n",
        "        print(\"dataset/\" + filename, \" already exists! :)\")"
      ],
      "execution_count": 3,
      "outputs": []
    },
    {
      "cell_type": "code",
      "metadata": {
        "colab": {
          "base_uri": "https://localhost:8080/"
        },
        "id": "jfA9Zg7TEXlg",
        "outputId": "6ddeac8b-a8b9-4a66-ca45-2155ad5b9def"
      },
      "source": [
        "download_dataset_if_needed(\"df-filtered.csv\")"
      ],
      "execution_count": 4,
      "outputs": [
        {
          "output_type": "stream",
          "name": "stdout",
          "text": [
            "--2021-09-01 14:40:27--  https://raw.githubusercontent.com/dhruszecki/cdatos-ST-TP/main/data/df-filtered.csv\n",
            "Resolving raw.githubusercontent.com (raw.githubusercontent.com)... 185.199.111.133, 185.199.108.133, 185.199.110.133, ...\n",
            "Connecting to raw.githubusercontent.com (raw.githubusercontent.com)|185.199.111.133|:443... connected.\n",
            "HTTP request sent, awaiting response... 200 OK\n",
            "Length: 4969468 (4.7M) [text/plain]\n",
            "Saving to: ‘dataset/df-filtered.csv’\n",
            "\n",
            "df-filtered.csv     100%[===================>]   4.74M  --.-KB/s    in 0.06s   \n",
            "\n",
            "2021-09-01 14:40:27 (75.8 MB/s) - ‘dataset/df-filtered.csv’ saved [4969468/4969468]\n",
            "\n"
          ]
        }
      ]
    },
    {
      "cell_type": "code",
      "metadata": {
        "colab": {
          "base_uri": "https://localhost:8080/",
          "height": 204
        },
        "id": "FmJbg1sFHuIp",
        "outputId": "0e37926f-c397-4d6a-fd6e-2cedf5f4c528"
      },
      "source": [
        "df = pd.read_csv(\"dataset/df-filtered.csv\")\n",
        "df.head()"
      ],
      "execution_count": 6,
      "outputs": [
        {
          "output_type": "execute_result",
          "data": {
            "text/html": [
              "<div>\n",
              "<style scoped>\n",
              "    .dataframe tbody tr th:only-of-type {\n",
              "        vertical-align: middle;\n",
              "    }\n",
              "\n",
              "    .dataframe tbody tr th {\n",
              "        vertical-align: top;\n",
              "    }\n",
              "\n",
              "    .dataframe thead th {\n",
              "        text-align: right;\n",
              "    }\n",
              "</style>\n",
              "<table border=\"1\" class=\"dataframe\">\n",
              "  <thead>\n",
              "    <tr style=\"text-align: right;\">\n",
              "      <th></th>\n",
              "      <th>Unnamed: 0</th>\n",
              "      <th>id</th>\n",
              "      <th>sender</th>\n",
              "      <th>text</th>\n",
              "      <th>sender_class</th>\n",
              "      <th>dialog_id</th>\n",
              "      <th>filtered_tokens_col</th>\n",
              "    </tr>\n",
              "  </thead>\n",
              "  <tbody>\n",
              "    <tr>\n",
              "      <th>0</th>\n",
              "      <td>0</td>\n",
              "      <td>0</td>\n",
              "      <td>participant2</td>\n",
              "      <td>I love iphone! i just bought new iphone!</td>\n",
              "      <td>Bot</td>\n",
              "      <td>0xab38710</td>\n",
              "      <td>['love', 'iphone', '!', 'bought', 'new', 'ipho...</td>\n",
              "    </tr>\n",
              "    <tr>\n",
              "      <th>1</th>\n",
              "      <td>1</td>\n",
              "      <td>1</td>\n",
              "      <td>participant1</td>\n",
              "      <td>Thats good for you, i'm not very into new tech</td>\n",
              "      <td>Human</td>\n",
              "      <td>0xab38710</td>\n",
              "      <td>['s', 'good', ',', 'new', 'tech']</td>\n",
              "    </tr>\n",
              "    <tr>\n",
              "      <th>2</th>\n",
              "      <td>2</td>\n",
              "      <td>2</td>\n",
              "      <td>participant2</td>\n",
              "      <td>I am a college student and i am a college student</td>\n",
              "      <td>Bot</td>\n",
              "      <td>0xab38710</td>\n",
              "      <td>['college', 'student', 'college', 'student']</td>\n",
              "    </tr>\n",
              "    <tr>\n",
              "      <th>3</th>\n",
              "      <td>3</td>\n",
              "      <td>3</td>\n",
              "      <td>participant1</td>\n",
              "      <td>I am go to gym and live on donations</td>\n",
              "      <td>Human</td>\n",
              "      <td>0xab38710</td>\n",
              "      <td>['gym', 'live', 'donations']</td>\n",
              "    </tr>\n",
              "    <tr>\n",
              "      <th>4</th>\n",
              "      <td>4</td>\n",
              "      <td>4</td>\n",
              "      <td>participant2</td>\n",
              "      <td>I am a vegan and i am in the midwest</td>\n",
              "      <td>Bot</td>\n",
              "      <td>0xab38710</td>\n",
              "      <td>['vegan', 'midwest']</td>\n",
              "    </tr>\n",
              "  </tbody>\n",
              "</table>\n",
              "</div>"
            ],
            "text/plain": [
              "   Unnamed: 0  id  ...  dialog_id                                filtered_tokens_col\n",
              "0           0   0  ...  0xab38710  ['love', 'iphone', '!', 'bought', 'new', 'ipho...\n",
              "1           1   1  ...  0xab38710                  ['s', 'good', ',', 'new', 'tech']\n",
              "2           2   2  ...  0xab38710       ['college', 'student', 'college', 'student']\n",
              "3           3   3  ...  0xab38710                       ['gym', 'live', 'donations']\n",
              "4           4   4  ...  0xab38710                               ['vegan', 'midwest']\n",
              "\n",
              "[5 rows x 7 columns]"
            ]
          },
          "metadata": {},
          "execution_count": 6
        }
      ]
    }
  ]
}