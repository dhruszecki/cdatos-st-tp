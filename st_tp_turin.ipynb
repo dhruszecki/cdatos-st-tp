{
  "nbformat": 4,
  "nbformat_minor": 0,
  "metadata": {
    "colab": {
      "name": "st-tp-turin.ipynb",
      "provenance": [],
      "include_colab_link": true
    },
    "kernelspec": {
      "name": "python3",
      "display_name": "Python 3"
    },
    "language_info": {
      "name": "python"
    }
  },
  "cells": [
    {
      "cell_type": "markdown",
      "metadata": {
        "id": "view-in-github",
        "colab_type": "text"
      },
      "source": [
        "<a href=\"https://colab.research.google.com/github/dhruszecki/cdatos-st-tp/blob/main/st_tp_turin.ipynb\" target=\"_parent\"><img src=\"https://colab.research.google.com/assets/colab-badge.svg\" alt=\"Open In Colab\"/></a>"
      ]
    },
    {
      "cell_type": "code",
      "metadata": {
        "id": "0FUwN44r_d0t",
        "colab": {
          "base_uri": "https://localhost:8080/"
        },
        "outputId": "5d376306-79f2-468e-f713-4c20a9e1eec2"
      },
      "source": [
        "import numpy as np\n",
        "import pandas as pd\n",
        "\n",
        "import os\n",
        "import os.path\n",
        "from os import path\n",
        "\n",
        "import matplotlib.pyplot as plt\n",
        "\n",
        "from enum import Enum\n",
        "from time import time\n",
        "\n",
        "\n",
        "# para ejecutar desde google colab, con notebook en el directorio donde están los demás archivos\n",
        "from google.colab import drive\n",
        "drive.mount('/content/gdrive')"
      ],
      "execution_count": null,
      "outputs": [
        {
          "output_type": "stream",
          "text": [
            "Mounted at /content/gdrive\n"
          ],
          "name": "stdout"
        }
      ]
    },
    {
      "cell_type": "markdown",
      "metadata": {
        "id": "nRrKlbtRAcU3"
      },
      "source": [
        "# Utils"
      ]
    },
    {
      "cell_type": "code",
      "metadata": {
        "id": "SYrbmdyiA8H5"
      },
      "source": [
        "def download_dataset_if_needed(filename):\n",
        "    if not path.exists(\"dataset/\"+filename):\n",
        "        url = \"https://raw.githubusercontent.com/dhruszecki/cdatos-ST-TP/main/data/\"+filename\n",
        "        !wget {url} -P dataset\n",
        "    else:\n",
        "        print(\"data/\" + filename, \" already exists! :)\")"
      ],
      "execution_count": null,
      "outputs": []
    },
    {
      "cell_type": "code",
      "metadata": {
        "colab": {
          "base_uri": "https://localhost:8080/"
        },
        "id": "jfA9Zg7TEXlg",
        "outputId": "ea52973f-f5ca-4af2-fe41-2952e2571403"
      },
      "source": [
        "download_dataset_if_needed(\"games.jsonl\")"
      ],
      "execution_count": null,
      "outputs": [
        {
          "output_type": "stream",
          "text": [
            "data/games.jsonl  already exists! :)\n"
          ],
          "name": "stdout"
        }
      ]
    },
    {
      "cell_type": "code",
      "metadata": {
        "colab": {
          "base_uri": "https://localhost:8080/",
          "height": 204
        },
        "id": "FmJbg1sFHuIp",
        "outputId": "03689eb3-721b-4bbd-ff84-0727c3580978"
      },
      "source": [
        "raw_dataset = pd.read_json(\"dataset/games.jsonl\", convert_dates=True, lines=True)\n",
        "raw_dataset.head()"
      ],
      "execution_count": null,
      "outputs": [
        {
          "output_type": "execute_result",
          "data": {
            "text/html": [
              "<div>\n",
              "<style scoped>\n",
              "    .dataframe tbody tr th:only-of-type {\n",
              "        vertical-align: middle;\n",
              "    }\n",
              "\n",
              "    .dataframe tbody tr th {\n",
              "        vertical-align: top;\n",
              "    }\n",
              "\n",
              "    .dataframe thead th {\n",
              "        text-align: right;\n",
              "    }\n",
              "</style>\n",
              "<table border=\"1\" class=\"dataframe\">\n",
              "  <thead>\n",
              "    <tr style=\"text-align: right;\">\n",
              "      <th></th>\n",
              "      <th>player1</th>\n",
              "      <th>player2</th>\n",
              "      <th>messages</th>\n",
              "      <th>started</th>\n",
              "      <th>id</th>\n",
              "    </tr>\n",
              "  </thead>\n",
              "  <tbody>\n",
              "    <tr>\n",
              "      <th>0</th>\n",
              "      <td>{'id': '50vekw81qbu', 'correct': 'robot', 'pre...</td>\n",
              "      <td>{'id': '4yuzigu344n', 'correct': 'robot', 'pre...</td>\n",
              "      <td>[{'text': 'Hello', 'from': 'player1', 'date': ...</td>\n",
              "      <td>1528038307912</td>\n",
              "      <td>50xma8xd3x4</td>\n",
              "    </tr>\n",
              "    <tr>\n",
              "      <th>1</th>\n",
              "      <td>{'id': 'ek3u7y7s4mr', 'correct': 'human', 'pre...</td>\n",
              "      <td>{'id': '8ji1vpaintc', 'correct': 'human', 'pre...</td>\n",
              "      <td>[{'text': ''sup?', 'from': 'player2', 'date': ...</td>\n",
              "      <td>1528038771378</td>\n",
              "      <td>eyjoc772wmo</td>\n",
              "    </tr>\n",
              "    <tr>\n",
              "      <th>2</th>\n",
              "      <td>{'id': 'kcgo7425ki', 'correct': 'human', 'pred...</td>\n",
              "      <td>{'id': 'k13qymazfjf', 'correct': 'human', 'pre...</td>\n",
              "      <td>[{'text': 'who am i speaking to', 'from': 'pla...</td>\n",
              "      <td>1528039032230</td>\n",
              "      <td>kjtkat8p8hs</td>\n",
              "    </tr>\n",
              "    <tr>\n",
              "      <th>3</th>\n",
              "      <td>{'id': '4yuzigu344n', 'correct': 'robot', 'pre...</td>\n",
              "      <td>{'id': '15sk45mg76yj', 'correct': 'robot', 'pr...</td>\n",
              "      <td>[{'text': 'hey', 'from': 'player1', 'date': 15...</td>\n",
              "      <td>1528040033387</td>\n",
              "      <td>160bhaib07yq</td>\n",
              "    </tr>\n",
              "    <tr>\n",
              "      <th>4</th>\n",
              "      <td>{'id': '1ldnczh95ph', 'correct': 'human', 'pre...</td>\n",
              "      <td>{'id': '1hdsrsqj674', 'correct': 'human', 'pre...</td>\n",
              "      <td>[{'text': ':-)', 'from': 'player2', 'date': 15...</td>\n",
              "      <td>1528040767846</td>\n",
              "      <td>1lr147j86lv</td>\n",
              "    </tr>\n",
              "  </tbody>\n",
              "</table>\n",
              "</div>"
            ],
            "text/plain": [
              "                                             player1  ...            id\n",
              "0  {'id': '50vekw81qbu', 'correct': 'robot', 'pre...  ...   50xma8xd3x4\n",
              "1  {'id': 'ek3u7y7s4mr', 'correct': 'human', 'pre...  ...   eyjoc772wmo\n",
              "2  {'id': 'kcgo7425ki', 'correct': 'human', 'pred...  ...   kjtkat8p8hs\n",
              "3  {'id': '4yuzigu344n', 'correct': 'robot', 'pre...  ...  160bhaib07yq\n",
              "4  {'id': '1ldnczh95ph', 'correct': 'human', 'pre...  ...   1lr147j86lv\n",
              "\n",
              "[5 rows x 5 columns]"
            ]
          },
          "metadata": {},
          "execution_count": 14
        }
      ]
    }
  ]
}