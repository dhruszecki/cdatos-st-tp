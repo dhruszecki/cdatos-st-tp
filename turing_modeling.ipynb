{
  "nbformat": 4,
  "nbformat_minor": 0,
  "metadata": {
    "colab": {
      "name": "turing_modeling.ipynb",
      "provenance": [],
      "collapsed_sections": [],
      "include_colab_link": true
    },
    "kernelspec": {
      "name": "python3",
      "display_name": "Python 3"
    },
    "language_info": {
      "name": "python"
    }
  },
  "cells": [
    {
      "cell_type": "markdown",
      "metadata": {
        "id": "view-in-github",
        "colab_type": "text"
      },
      "source": [
        "<a href=\"https://colab.research.google.com/github/dhruszecki/cdatos-st-tp/blob/main/turing_modeling.ipynb\" target=\"_parent\"><img src=\"https://colab.research.google.com/assets/colab-badge.svg\" alt=\"Open In Colab\"/></a>"
      ]
    },
    {
      "cell_type": "code",
      "metadata": {
        "id": "Di5tfzghfJAm"
      },
      "source": [
        "import pandas as pd\n",
        "import numpy as np\n",
        "from sklearn.model_selection import train_test_split\n",
        "from fastdtw import fastdtw\n",
        "from scipy.spatial.distance import euclidean\n",
        "import matplotlib.pyplot as plt\n"
      ],
      "execution_count": null,
      "outputs": []
    },
    {
      "cell_type": "code",
      "metadata": {
        "id": "TW1kRAfxEZBU"
      },
      "source": [
        "df = pd.read_csv('df_diccs_parametros_uniqW.csv')"
      ],
      "execution_count": null,
      "outputs": []
    },
    {
      "cell_type": "code",
      "metadata": {
        "id": "wlGRHZ62EtPK"
      },
      "source": [
        "df = df[['id', 'dialog_id', 'uniqWeight', 'sender_class']]"
      ],
      "execution_count": null,
      "outputs": []
    },
    {
      "cell_type": "code",
      "metadata": {
        "colab": {
          "base_uri": "https://localhost:8080/",
          "height": 206
        },
        "id": "iGevc38eFEDJ",
        "outputId": "48b50a53-e581-44e3-b8c2-83bbf4d48f0e"
      },
      "source": [
        "df.head()"
      ],
      "execution_count": null,
      "outputs": [
        {
          "output_type": "execute_result",
          "data": {
            "text/html": [
              "<div>\n",
              "<style scoped>\n",
              "    .dataframe tbody tr th:only-of-type {\n",
              "        vertical-align: middle;\n",
              "    }\n",
              "\n",
              "    .dataframe tbody tr th {\n",
              "        vertical-align: top;\n",
              "    }\n",
              "\n",
              "    .dataframe thead th {\n",
              "        text-align: right;\n",
              "    }\n",
              "</style>\n",
              "<table border=\"1\" class=\"dataframe\">\n",
              "  <thead>\n",
              "    <tr style=\"text-align: right;\">\n",
              "      <th></th>\n",
              "      <th>id</th>\n",
              "      <th>dialog_id</th>\n",
              "      <th>uniqWeight</th>\n",
              "      <th>sender_class</th>\n",
              "    </tr>\n",
              "  </thead>\n",
              "  <tbody>\n",
              "    <tr>\n",
              "      <th>0</th>\n",
              "      <td>0</td>\n",
              "      <td>0xab38710</td>\n",
              "      <td>0.179995</td>\n",
              "      <td>Bot</td>\n",
              "    </tr>\n",
              "    <tr>\n",
              "      <th>1</th>\n",
              "      <td>1</td>\n",
              "      <td>0xab38710</td>\n",
              "      <td>0.183899</td>\n",
              "      <td>Human</td>\n",
              "    </tr>\n",
              "    <tr>\n",
              "      <th>2</th>\n",
              "      <td>2</td>\n",
              "      <td>0xab38710</td>\n",
              "      <td>0.107382</td>\n",
              "      <td>Bot</td>\n",
              "    </tr>\n",
              "    <tr>\n",
              "      <th>3</th>\n",
              "      <td>3</td>\n",
              "      <td>0xab38710</td>\n",
              "      <td>0.109968</td>\n",
              "      <td>Human</td>\n",
              "    </tr>\n",
              "    <tr>\n",
              "      <th>4</th>\n",
              "      <td>4</td>\n",
              "      <td>0xab38710</td>\n",
              "      <td>0.152454</td>\n",
              "      <td>Bot</td>\n",
              "    </tr>\n",
              "  </tbody>\n",
              "</table>\n",
              "</div>"
            ],
            "text/plain": [
              "   id  dialog_id  uniqWeight sender_class\n",
              "0   0  0xab38710    0.179995          Bot\n",
              "1   1  0xab38710    0.183899        Human\n",
              "2   2  0xab38710    0.107382          Bot\n",
              "3   3  0xab38710    0.109968        Human\n",
              "4   4  0xab38710    0.152454          Bot"
            ]
          },
          "metadata": {},
          "execution_count": 6
        }
      ]
    },
    {
      "cell_type": "code",
      "metadata": {
        "colab": {
          "base_uri": "https://localhost:8080/"
        },
        "id": "wo7zDk5pFOaK",
        "outputId": "3ef2b2c1-a937-465e-dd58-f60e245a067d"
      },
      "source": [
        "len(df)"
      ],
      "execution_count": null,
      "outputs": [
        {
          "output_type": "execute_result",
          "data": {
            "text/plain": [
              "47234"
            ]
          },
          "metadata": {},
          "execution_count": 56
        }
      ]
    },
    {
      "cell_type": "code",
      "metadata": {
        "id": "usQuvz0jFscJ"
      },
      "source": [
        "series = [serie for _, serie in df.groupby(by=['dialog_id', 'sender_class'])]"
      ],
      "execution_count": null,
      "outputs": []
    },
    {
      "cell_type": "code",
      "metadata": {
        "colab": {
          "base_uri": "https://localhost:8080/"
        },
        "id": "-HSsWC5gF3kO",
        "outputId": "ec99def4-68c7-4862-abfa-3d2067a18c1d"
      },
      "source": [
        "len(series)"
      ],
      "execution_count": null,
      "outputs": [
        {
          "output_type": "execute_result",
          "data": {
            "text/plain": [
              "5551"
            ]
          },
          "metadata": {},
          "execution_count": 58
        }
      ]
    },
    {
      "cell_type": "markdown",
      "metadata": {
        "id": "ScIYby2kJFvS"
      },
      "source": [
        "Nos quedamos con series de al menos 4 interacciones y maximo 30\n",
        "y que no tengan valores de uniqWeight por fuera del rango (0,1)"
      ]
    },
    {
      "cell_type": "code",
      "metadata": {
        "id": "2nf4jtH3IyRB"
      },
      "source": [
        "min_lenght = 4\n",
        "max_lenght = 30\n",
        "\n",
        "series_to_drop = []\n",
        "\n",
        "for i in range(len(series)):\n",
        "  if len(series[i]) < min_lenght or len(series[i]) > max_lenght:\n",
        "    series_to_drop.append(i)\n",
        "  if (series[i]['uniqWeight'] > 1).any() or (series[i]['uniqWeight'] < 0).any():\n",
        "    series_to_drop.append(i)\n",
        "for ele in sorted(series_to_drop, reverse = True):\n",
        "    del series[ele]"
      ],
      "execution_count": null,
      "outputs": []
    },
    {
      "cell_type": "code",
      "metadata": {
        "colab": {
          "base_uri": "https://localhost:8080/"
        },
        "id": "0XUq0wSlJP_O",
        "outputId": "b653be88-986e-4b2f-f28c-5dc52a8da0fe"
      },
      "source": [
        "len(series)"
      ],
      "execution_count": null,
      "outputs": [
        {
          "output_type": "execute_result",
          "data": {
            "text/plain": [
              "2709"
            ]
          },
          "metadata": {},
          "execution_count": 60
        }
      ]
    },
    {
      "cell_type": "code",
      "metadata": {
        "id": "Zob8bidHG7JF"
      },
      "source": [
        "longitudes = []\n",
        "for serie in series:\n",
        "  longitudes.append(len(serie))"
      ],
      "execution_count": null,
      "outputs": []
    },
    {
      "cell_type": "code",
      "metadata": {
        "colab": {
          "base_uri": "https://localhost:8080/",
          "height": 295
        },
        "id": "87pdXLcAHV63",
        "outputId": "a6fee373-6ebb-4b10-8c53-c47bb294a660"
      },
      "source": [
        "plt.hist(longitudes, bins=27)\n",
        "plt.xlabel('Cant de interacciones')\n",
        "plt.title('Interacciones de los diálogos')\n",
        "plt.show()"
      ],
      "execution_count": null,
      "outputs": [
        {
          "output_type": "display_data",
          "data": {
            "image/png": "[encoded data removed]",
            "text/plain": [
              "<Figure size 432x288 with 1 Axes>"
            ]
          },
          "metadata": {
            "needs_background": "light"
          }
        }
      ]
    },
    {
      "cell_type": "code",
      "metadata": {
        "colab": {
          "base_uri": "https://localhost:8080/",
          "height": 36
        },
        "id": "8e5_0atnLaL8",
        "outputId": "7900523b-b46e-4b26-c861-463aa6acfae3"
      },
      "source": [
        "series[0]"
      ],
      "execution_count": null,
      "outputs": [
        {
          "output_type": "execute_result",
          "data": {
            "application/vnd.google.colaboratory.intrinsic+json": {
              "type": "string"
            },
            "text/plain": [
              "'Bot'"
            ]
          },
          "metadata": {},
          "execution_count": 73
        }
      ]
    },
    {
      "cell_type": "markdown",
      "metadata": {
        "id": "JVHpHdZpLxgh"
      },
      "source": [
        "Atencion: la clase \"bot\" es la clase 1. \n",
        "La clase 'human' es la clase 0."
      ]
    },
    {
      "cell_type": "code",
      "metadata": {
        "id": "EVdZmpRyJmGP"
      },
      "source": [
        "X = []\n",
        "y = []\n",
        "for i, serie in enumerate(series):\n",
        "  X.append(serie['uniqWeight'])\n",
        "  y.append(int(serie['sender_class'].iloc[0] == 'Bot'))\n",
        "\n",
        "y = np.array(y)"
      ],
      "execution_count": null,
      "outputs": []
    },
    {
      "cell_type": "code",
      "metadata": {
        "colab": {
          "base_uri": "https://localhost:8080/"
        },
        "id": "xQDuCrU9fryN",
        "outputId": "43f09036-c5e2-4cb4-84ac-2b3a9a7bf264"
      },
      "source": [
        "random_state = 1\n",
        "\n",
        "X_train_dev, X_test, y_train_dev, y_test = train_test_split(X, y, test_size=0.2, random_state=random_state)\n",
        "X_train, X_dev, y_train, y_dev = train_test_split(X_train_dev, y_train_dev, test_size=0.2, random_state=random_state)\n",
        "print('Train X: '+str(len(X_train)))\n",
        "print('Train y: '+str(len(y_train)))\n",
        "print('Dev X: '+str(len(X_dev)))\n",
        "print('Dev y: '+str(len(y_dev)))\n",
        "print('Test X: '+str(len(X_test)))\n",
        "print('Test y: '+str(len(y_test)))"
      ],
      "execution_count": null,
      "outputs": [
        {
          "output_type": "stream",
          "name": "stdout",
          "text": [
            "Train X: 1733\n",
            "Train y: 1733\n",
            "Dev X: 434\n",
            "Dev y: 434\n",
            "Test X: 542\n",
            "Test y: 542\n"
          ]
        }
      ]
    },
    {
      "cell_type": "markdown",
      "metadata": {
        "id": "DcLoeHn6lXis"
      },
      "source": [
        "Vamos a usar DTW (Dynamic Time Warping) para comparar las series temporales\n",
        "Que es esto?: https://towardsdatascience.com/dynamic-time-warping-3933f25fcdd"
      ]
    },
    {
      "cell_type": "code",
      "metadata": {
        "id": "833wS_mel2B9"
      },
      "source": [
        "###  OJO!! Cada instancia de test tarda unos 5 segundos en predecir. \n",
        "\n",
        "cuantas_instancias_de_test_corremos = len(X_test)\n",
        "\n",
        "\n",
        "cuantas_instancias_de_test_corremos = min(cuantas_instancias_de_test_corremos, len(X_test))\n",
        "predicciones = np.zeros(cuantas_instancias_de_test_corremos)\n",
        "\n",
        "for i in range(len(predicciones)):\n",
        "\n",
        "  distancia_acumualda = np.zeros(2)\n",
        "\n",
        "  for j in range(len(X_train)):\n",
        "    distancia_acumualda[y_train[j]] += fastdtw(X_train[j], X_test[i], dist=euclidean)[0]\n",
        "\n",
        "  distancia_acumualda[0] /= len(y_train[y_train==0])\n",
        "  distancia_acumualda[1] /= len(y_train[y_train==1])\n",
        "\n",
        "  if distancia_acumualda[1] < distancia_acumualda[0]:\n",
        "    predicciones[i] = 1\n"
      ],
      "execution_count": null,
      "outputs": []
    },
    {
      "cell_type": "markdown",
      "metadata": {
        "id": "dlcTkitSqvQN"
      },
      "source": [
        "Comparemos el ground truth con lo predicho. En el caso de muestras generadas al azar, deberia dar cerca de 0.5 (si corremos unos cuantos ejemplos de test)"
      ]
    },
    {
      "cell_type": "code",
      "metadata": {
        "colab": {
          "base_uri": "https://localhost:8080/"
        },
        "id": "23_vZpG7mMaR",
        "outputId": "c01b4906-2268-4751-f8e8-a91bfd8ce778"
      },
      "source": [
        "predicciones_correctas = np.sum(y_test[:cuantas_instancias_de_test_corremos] == predicciones)\n",
        "\n",
        "predicciones_correctas_pretty_print = round(100 * predicciones_correctas / cuantas_instancias_de_test_corremos, 3)\n",
        "print(\"Predicciones correctas: {} %\".format(str(predicciones_correctas_pretty_print)))"
      ],
      "execution_count": null,
      "outputs": [
        {
          "output_type": "stream",
          "name": "stdout",
          "text": [
            "Predicciones correctas: 59.041 %\n"
          ]
        }
      ]
    },
    {
      "cell_type": "code",
      "metadata": {
        "id": "VhWL1XytvEP7",
        "colab": {
          "base_uri": "https://localhost:8080/",
          "height": 336
        },
        "outputId": "51b8172e-5ad4-4c63-c3fa-d3d9152f7f34"
      },
      "source": [
        " \n",
        "fig = plt.figure(figsize = (5, 5))\n",
        " \n",
        "# creating the bar plot\n",
        "#plt.bar(['Correctas', 'Incorrectas'], x=[0,1],[predicciones_correctas_pretty_print, 100-predicciones_correctas_pretty_print], width = 0.5)\n",
        " \n",
        "plt.bar([0,1], [predicciones_correctas_pretty_print, 100-predicciones_correctas_pretty_print])\n",
        "plt.xticks([0,1], ['Correctas', 'Incorrectas'])\n",
        "plt.ylabel(\"Proporción de predicciones\")\n",
        "plt.title(\"Predicciones con DTW\")\n",
        "plt.show()"
      ],
      "execution_count": null,
      "outputs": [
        {
          "output_type": "display_data",
          "data": {
            "image/png": "[encoded data removed]",
            "text/plain": [
              "<Figure size 360x360 with 1 Axes>"
            ]
          },
          "metadata": {
            "needs_background": "light"
          }
        }
      ]
    },
    {
      "cell_type": "code",
      "metadata": {
        "id": "LMSwC08TQo-t"
      },
      "source": [
        ""
      ],
      "execution_count": null,
      "outputs": []
    }
  ]
}